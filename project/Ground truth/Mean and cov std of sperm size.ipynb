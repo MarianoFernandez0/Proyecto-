{
 "cells": [
  {
   "cell_type": "code",
   "execution_count": 3,
   "metadata": {},
   "outputs": [],
   "source": [
    "# import the necessary packages\n",
    "#source: https://www.pyimagesearch.com/2016/03/28/measuring-size-of-objects-in-an-image-with-opencv/\n",
    "\n",
    "from scipy.spatial import distance as dist\n",
    "from imutils import perspective\n",
    "from imutils import contours\n",
    "import numpy as np\n",
    "import argparse\n",
    "import imutils\n",
    "import cv2\n",
    "import matplotlib.pyplot as plt\n",
    "\n",
    "plt.rcParams['figure.figsize'] = (7.0, 7.0) \n",
    "plt.rcParams['image.cmap'] = 'gray'\n",
    "\n",
    "def midpoint(ptA, ptB):\n",
    "    return ((ptA[0] + ptB[0]) * 0.5, (ptA[1] + ptB[1]) * 0.5)\n",
    "# construct the argument parse and parse the arguments\n",
    "ap = argparse.ArgumentParser()\n",
    "ap.add_argument(\"-i\", \"--image\", required=True,\n",
    "    help=\"path to the input image\")\n",
    "ap.add_argument(\"-w\", \"--width\", type=float, required=True,\n",
    "    help=\"width of the left-most object in the image (in inches)\")\n",
    "\n",
    "#args = vars(ap.parse_args())\n",
    "args = \"Muestras/9.tif\" , 10"
   ]
  },
  {
   "cell_type": "code",
   "execution_count": 4,
   "metadata": {},
   "outputs": [],
   "source": [
    "# load the image, convert it to grayscale, and blur it slightly\n",
    "sequence = cv2.imreadmulti(\"Muestras/9.tif\")[1]\n",
    "dims = []\n",
    "for n in range(len(sequence)):\n",
    "    image = sequence[n]\n",
    "    width =1\n",
    "    gray = cv2.GaussianBlur(image, (7, 7), 0)\n",
    "\n",
    "    # perform edge detection, then perform a dilation + erosion to\n",
    "    # close gaps in between object edges\n",
    "    edged = cv2.Canny(gray, 0, 20)\n",
    "    edged = cv2.dilate(edged, None, iterations=1)\n",
    "    edged = cv2.erode(edged, None, iterations=1)\n",
    "\n",
    "    # find contours in the edge map\n",
    "    cnts = cv2.findContours(edged.copy(), cv2.RETR_EXTERNAL,\n",
    "    cv2.CHAIN_APPROX_SIMPLE)\n",
    "    cnts = imutils.grab_contours(cnts)\n",
    "\n",
    "    # sort the contours from left-to-right and initialize the\n",
    "    # 'pixels per metric' calibration variable\n",
    "    (cnts, _) = contours.sort_contours(cnts)\n",
    "    pixelsPerMetric = None\n",
    "\n",
    "\n",
    "    # loop over the contours individually\n",
    "    for c in cnts:\n",
    "        # if the contour is not sufficiently large, ignore it\n",
    "        if cv2.contourArea(c) < 5:\n",
    "            continue\n",
    "        # compute the rotated bounding box of the contour\n",
    "        orig = image.copy()*7\n",
    "        box = cv2.minAreaRect(c)\n",
    "        box = cv2.cv.BoxPoints(box) if imutils.is_cv2() else cv2.boxPoints(box)\n",
    "        box = np.array(box, dtype=\"int\")\n",
    "\n",
    "        # order the points in the contour such that they appear\n",
    "        # in top-left, top-right, bottom-right, and bottom-left\n",
    "        # order, then draw the outline of the rotated bounding\n",
    "        # box\n",
    "        box = perspective.order_points(box)\n",
    "        cv2.drawContours(orig, [box.astype(\"int\")], -1, (0, 255, 0), 2)\n",
    "\n",
    "        # loop over the original points and draw them\n",
    "        for (x, y) in box:\n",
    "            cv2.circle(orig, (int(x), int(y)), 5, (0, 0, 255), -1)\n",
    "            # unpack the ordered bounding box, then compute the midpoint\n",
    "        # between the top-left and top-right coordinates, followed by\n",
    "        # the midpoint between bottom-left and bottom-right coordinates\n",
    "        (tl, tr, br, bl) = box\n",
    "        (tltrX, tltrY) = midpoint(tl, tr)\n",
    "        (blbrX, blbrY) = midpoint(bl, br)\n",
    "\n",
    "        # compute the midpoint between the top-left and top-right points,\n",
    "        # followed by the midpoint between the top-righ and bottom-right\n",
    "        (tlblX, tlblY) = midpoint(tl, bl)\n",
    "        (trbrX, trbrY) = midpoint(tr, br)\n",
    "\n",
    "        # draw the midpoints on the image\n",
    "        cv2.circle(orig, (int(tltrX), int(tltrY)), 5, (255, 0, 0), -1)\n",
    "        cv2.circle(orig, (int(blbrX), int(blbrY)), 5, (255, 0, 0), -1)\n",
    "        cv2.circle(orig, (int(tlblX), int(tlblY)), 5, (255, 0, 0), -1)\n",
    "        cv2.circle(orig, (int(trbrX), int(trbrY)), 5, (255, 0, 0), -1)\n",
    "\n",
    "        # draw lines between the midpoints\n",
    "        cv2.line(orig, (int(tltrX), int(tltrY)), (int(blbrX), int(blbrY)),\n",
    "            (255, 0, 255), 2)\n",
    "        cv2.line(orig, (int(tlblX), int(tlblY)), (int(trbrX), int(trbrY)),\n",
    "            (255, 0, 255), 2)\n",
    "        # compute the Euclidean distance between the midpoints\n",
    "        dA = dist.euclidean((tltrX, tltrY), (blbrX, blbrY))\n",
    "        dB = dist.euclidean((tlblX, tlblY), (trbrX, trbrY))\n",
    "\n",
    "        # if the pixels per metric has not been initialized, then\n",
    "        # compute it as the ratio of pixels to supplied metric\n",
    "        # (in this case, inches)\n",
    "        if pixelsPerMetric is None:\n",
    "            #pixelsPerMetric = dB / args[\"width\"]\n",
    "            pixelsPerMetric = dB / width\n",
    "        # compute the size of the object\n",
    "        dimA = dA #/ pixelsPerMetric\n",
    "        dimB = dB #/ pixelsPerMetric\n",
    "\n",
    "        # draw the object sizes on the image\n",
    "        cv2.putText(orig, \"{:.1f}pixels\".format(dimA),\n",
    "            (int(tltrX - 15), int(tltrY - 10)), cv2.FONT_HERSHEY_SIMPLEX,\n",
    "            0.65, (255, 255, 255), 2)\n",
    "        cv2.putText(orig, \"{:.1f}pixels\".format(dimB),\n",
    "            (int(trbrX + 10), int(trbrY)), cv2.FONT_HERSHEY_SIMPLEX,\n",
    "            0.65, (255, 255, 255), 2)\n",
    "\n",
    "        #Save dims if objects\n",
    "        dims.append(max(dA,dB))\n",
    "        dims.append(min(dA,dB))\n",
    "        # show the output image\n",
    "        if n == 5 or n==20 or n==70 :\n",
    "            cv2.imshow(\"Image\", orig)\n",
    "            cv2.waitKey(0)\n",
    "    cv2.destroyAllWindows()"
   ]
  },
  {
   "cell_type": "code",
   "execution_count": 5,
   "metadata": {},
   "outputs": [],
   "source": [
    "d = np.zeros((len(dims)//2,2))\n",
    "d[:,0] = dims[::2]\n",
    "d[:,1] = dims[1::2]\n"
   ]
  },
  {
   "cell_type": "code",
   "execution_count": 10,
   "metadata": {},
   "outputs": [
    {
     "name": "stdout",
     "output_type": "stream",
     "text": [
      "mean_len: 20.72473320086573\n",
      "mean_width: 9.618189389157713\n",
      "std_len: 10.18665058288788\n",
      "std_width: 3.8191507278809214\n"
     ]
    }
   ],
   "source": [
    "mean_len = np.mean(d[:,0])\n",
    "mean_width = np.mean(d[:,1])\n",
    "print('mean_len:',mean_len)\n",
    "print('mean_width:',mean_width)\n",
    "std_len = np.std(d[:,0])\n",
    "std_width = np.std(d[:,1])\n",
    "print('std_len:',std_len)\n",
    "print('std_width:',std_width)"
   ]
  },
  {
   "cell_type": "code",
   "execution_count": 12,
   "metadata": {},
   "outputs": [
    {
     "data": {
      "image/png": "[encoded data removed]",
      "text/plain": [
       "<Figure size 1440x504 with 2 Axes>"
      ]
     },
     "metadata": {
      "needs_background": "light"
     },
     "output_type": "display_data"
    }
   ],
   "source": [
    "plt.figure(figsize=(20,7))\n",
    "plt.subplot(121)\n",
    "plt.hist(d[:,0],bins=len(dims)//50) \n",
    "plt.title(\"Histograma del largo\") \n",
    "plt.xlabel('pixels')\n",
    "l1 = plt.axvline(mean_len, c='r')\n",
    "l2 = plt.axvline(mean_len+std_len, c='g')\n",
    "l3 = plt.axvline(mean_len-std_len, c='g')\n",
    "plt.legend((l1, l2, l3), ['Media del largo', 'Desviación estándar del largo'])\n",
    "\n",
    "plt.subplot(122)\n",
    "plt.hist(d[:,1],bins=len(dims)//100) \n",
    "plt.title(\"Histograma del ancho\") \n",
    "plt.xlabel('pixels')\n",
    "l1 = plt.axvline(mean_width, c='r')\n",
    "l2 = plt.axvline(mean_width+std_width, c='g')\n",
    "l3 = plt.axvline(mean_width-std_width, c='g')\n",
    "plt.legend((l1, l2, l3), ['Media del ancho', 'Desviación estándar del ancho'])\n",
    "plt.show()"
   ]
  },
  {
   "cell_type": "code",
   "execution_count": null,
   "metadata": {},
   "outputs": [],
   "source": []
  },
  {
   "cell_type": "code",
   "execution_count": 11,
   "metadata": {},
   "outputs": [
    {
     "name": "stdout",
     "output_type": "stream",
     "text": [
      "mean: [20.7247332   9.61818939]\n",
      "cov: [[103.80124818  21.61793687]\n",
      " [ 21.61793687  14.59060681]]\n"
     ]
    }
   ],
   "source": [
    "mean = np.mean(d,axis=0)\n",
    "print(\"mean:\",mean)\n",
    "\n",
    "cov = np.cov(d[:,0],d[:,1])\n",
    "print(\"cov:\",cov)\n"
   ]
  },
  {
   "cell_type": "code",
   "execution_count": null,
   "metadata": {},
   "outputs": [],
   "source": []
  }
 ],
 "metadata": {
  "kernelspec": {
   "display_name": "Python 3",
   "language": "python",
   "name": "python3"
  },
  "language_info": {
   "codemirror_mode": {
    "name": "ipython",
    "version": 3
   },
   "file_extension": ".py",
   "mimetype": "text/x-python",
   "name": "python",
   "nbconvert_exporter": "python",
   "pygments_lexer": "ipython3",
   "version": "3.7.4"
  }
 },
 "nbformat": 4,
 "nbformat_minor": 2
}
