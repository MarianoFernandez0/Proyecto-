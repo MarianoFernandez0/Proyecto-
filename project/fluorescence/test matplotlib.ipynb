{
 "cells": [
  {
   "cell_type": "code",
   "execution_count": 15,
   "metadata": {},
   "outputs": [],
   "source": [
    "%matplotlib qt\n",
    "import numpy as np\n",
    "import matplotlib.pyplot as plt\n",
    "from skimage.io import imread\n",
    "import skimage.color as color\n",
    "import cv2\n",
    "import skimage.filters as filters\n",
    "import skimage.exposure as exposure\n",
    "import scipy.ndimage as nd"
   ]
  },
  {
   "cell_type": "code",
   "execution_count": 3,
   "metadata": {},
   "outputs": [],
   "source": [
    "def segmentation(image):\n",
    "    image_bw = color.rgb2gray(image)\n",
    "    image_filtered = nd.gaussian_filter(image_bw, sigma=3)\n",
    "    image_threshold = filters.threshold_otsu(image_filtered)\n",
    "    mask = (image_bw > image_threshold) * 255\n",
    "    return mask.astype(np.uint8)"
   ]
  },
  {
   "cell_type": "code",
   "execution_count": 19,
   "metadata": {},
   "outputs": [],
   "source": [
    "original_img = imread('Images_in/sample.jpg')\n",
    "original_img_gray = cv2.cvtColor(original_img, cv2.COLOR_BGR2GRAY)\n",
    "#original_img_grayrgb2 = color.rgb2gray(original_img)\n",
    "mask = imread('mascara.png')/255\n",
    "# imagen segmentada\n",
    "segmented_img = segmentation(original_img)/255"
   ]
  },
  {
   "cell_type": "code",
   "execution_count": 28,
   "metadata": {},
   "outputs": [
    {
     "name": "stdout",
     "output_type": "stream",
     "text": [
      "3648.652614593506 15.342857142857143\n"
     ]
    }
   ],
   "source": [
    "print(CTCF,mean_gray_value)"
   ]
  },
  {
   "cell_type": "code",
   "execution_count": 29,
   "metadata": {},
   "outputs": [],
   "source": [
    "def fluorescence (gray_img,mask,segmented_img):\n",
    "    \n",
    "    # contruccion imagen \"fluorescent mask\"\n",
    "    fluorescent_mask = gray_img * mask\n",
    "    integrated_density = np.sum(fluorescent_mask)\n",
    "    area_in_pixels = np.sum(mask)\n",
    "    mean_gray_value = integrated_density / area_in_pixels\n",
    "    \n",
    "    # construccion imagen \"background\"\n",
    "    segmented_img_inv = (segmented_img == 0).astype(np.uint8)\n",
    "    background_img = gray_img * segmented_img_inv\n",
    "    background_mean = np.sum(background_img) / (original_img.shape[0] * original_img.shape[1])\n",
    "    CTCF = integrated_density - (area_in_pixels * background_mean)\n",
    "    \n",
    "    return CTCF, mean_gray_value"
   ]
  },
  {
   "cell_type": "code",
   "execution_count": 31,
   "metadata": {},
   "outputs": [
    {
     "name": "stdout",
     "output_type": "stream",
     "text": [
      "3648.652614593506 15.342857142857143\n"
     ]
    }
   ],
   "source": [
    "ctcf_ , mean_gray_value_ = fluorescence (original_img_gray, mask, segmented_img)\n",
    "print(ctcf_, mean_gray_value_)"
   ]
  },
  {
   "cell_type": "code",
   "execution_count": 33,
   "metadata": {},
   "outputs": [],
   "source": [
    "segmented_img = imread('Images_in/sample_segmented.jpg')"
   ]
  },
  {
   "cell_type": "code",
   "execution_count": 34,
   "metadata": {},
   "outputs": [
    {
     "data": {
      "text/plain": [
       "<matplotlib.image.AxesImage at 0x22f79cb8a90>"
      ]
     },
     "execution_count": 34,
     "metadata": {},
     "output_type": "execute_result"
    }
   ],
   "source": [
    "plt.imshow(segmented_img,cmap='gray')"
   ]
  },
  {
   "cell_type": "code",
   "execution_count": 14,
   "metadata": {},
   "outputs": [
    {
     "name": "stdout",
     "output_type": "stream",
     "text": [
      "[3 1 2] 2 0.005870980392156863\n"
     ]
    }
   ],
   "source": [
    "print(original_img[10,150,:],original_img_gray[10,150],original_img_grayrgb2[10,150])"
   ]
  },
  {
   "cell_type": "code",
   "execution_count": null,
   "metadata": {},
   "outputs": [],
   "source": []
  }
 ],
 "metadata": {
  "kernelspec": {
   "display_name": "Python 3",
   "language": "python",
   "name": "python3"
  },
  "language_info": {
   "codemirror_mode": {
    "name": "ipython",
    "version": 3
   },
   "file_extension": ".py",
   "mimetype": "text/x-python",
   "name": "python",
   "nbconvert_exporter": "python",
   "pygments_lexer": "ipython3",
   "version": "3.7.3"
  }
 },
 "nbformat": 4,
 "nbformat_minor": 2
}
