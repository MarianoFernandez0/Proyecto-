{
 "cells": [
  {
   "cell_type": "code",
   "execution_count": 2,
   "metadata": {},
   "outputs": [],
   "source": [
    "import numpy as np\n",
    "import matplotlib.pyplot as plt\n",
    "import pandas as pd\n",
    "import os"
   ]
  },
  {
   "cell_type": "code",
   "execution_count": 8,
   "metadata": {},
   "outputs": [],
   "source": [
    "# leer csv\n",
    "who_measurements_df = pd.read_csv('tracks_WHO-01.csv')\n",
    "#who_casa_measurements_df = pd.read_csv('Informe_1062_excel.csv')"
   ]
  },
  {
   "cell_type": "code",
   "execution_count": 9,
   "metadata": {},
   "outputs": [],
   "source": [
    "# guardar valores de las medidas corridas\n",
    "keys = ['vcl', 'vsl', 'vap_mean', 'alh_mean', 'lin', 'wob', 'str', 'bcf_mean', 'mad', 'fluo']\n",
    "measures = {}\n",
    "\n",
    "for measure in list(keys):\n",
    "    measures[measure]=who_measurements_df[measure].to_numpy()"
   ]
  },
  {
   "cell_type": "code",
   "execution_count": 10,
   "metadata": {},
   "outputs": [],
   "source": [
    "mean = []\n",
    "\n",
    "for measure in list(keys):\n",
    "    mean.append(np.nanmean(measures[measure]))"
   ]
  },
  {
   "cell_type": "code",
   "execution_count": 11,
   "metadata": {},
   "outputs": [
    {
     "data": {
      "text/plain": [
       "[9.196305993858118,\n",
       " 5.207753754314256,\n",
       " 6.671882585867944,\n",
       " 0.050039853976985994,\n",
       " 0.3792402555541612,\n",
       " 0.597484729890376,\n",
       " 0.5317448342676308,\n",
       " 14.53683045528976,\n",
       " 2.609073222506443,\n",
       " 0.0]"
      ]
     },
     "execution_count": 11,
     "metadata": {},
     "output_type": "execute_result"
    }
   ],
   "source": [
    "mean"
   ]
  },
  {
   "cell_type": "code",
   "execution_count": null,
   "metadata": {},
   "outputs": [],
   "source": []
  }
 ],
 "metadata": {
  "kernelspec": {
   "display_name": "Python 3",
   "language": "python",
   "name": "python3"
  },
  "language_info": {
   "codemirror_mode": {
    "name": "ipython",
    "version": 3
   },
   "file_extension": ".py",
   "mimetype": "text/x-python",
   "name": "python",
   "nbconvert_exporter": "python",
   "pygments_lexer": "ipython3",
   "version": "3.8.3"
  }
 },
 "nbformat": 4,
 "nbformat_minor": 4
}
