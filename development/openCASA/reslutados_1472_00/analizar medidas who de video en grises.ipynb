{
 "cells": [
  {
   "cell_type": "code",
   "execution_count": 1,
   "metadata": {},
   "outputs": [],
   "source": [
    "import numpy as np\n",
    "import matplotlib.pyplot as plt\n",
    "import pandas as pd\n",
    "import os"
   ]
  },
  {
   "cell_type": "code",
   "execution_count": 2,
   "metadata": {},
   "outputs": [],
   "source": [
    "# leer csv\n",
    "who_measurements_df = pd.read_csv('tracks_WHO.csv')"
   ]
  },
  {
   "cell_type": "code",
   "execution_count": 4,
   "metadata": {},
   "outputs": [],
   "source": [
    "keys = ['vcl', 'vsl', 'vap_mean', 'alh_mean', 'lin', 'wob', 'str', 'bcf_mean', 'mad', 'fluo']\n",
    "measures = {}\n",
    "\n",
    "for measure in list(keys):\n",
    "    measures[measure]=who_measurements_df[measure].to_numpy()"
   ]
  },
  {
   "cell_type": "code",
   "execution_count": 13,
   "metadata": {},
   "outputs": [],
   "source": [
    "mean_ = {}\n",
    "for measure in list(keys):\n",
    "    mean_[measure]=who_measurements_df[measure].mean()"
   ]
  },
  {
   "cell_type": "code",
   "execution_count": 14,
   "metadata": {},
   "outputs": [
    {
     "data": {
      "text/plain": [
       "{'vcl': 3.9310317042826566,\n",
       " 'vsl': 2.7487100781750806,\n",
       " 'vap_mean': 3.122057992928551,\n",
       " 'alh_mean': 0.007661135796019526,\n",
       " 'lin': 0.30855331002309644,\n",
       " 'wob': 0.35983918237312973,\n",
       " 'str': 0.3733971633612142,\n",
       " 'bcf_mean': 7.240362331903685,\n",
       " 'mad': 1.1070969278225384,\n",
       " 'fluo': 0.0}"
      ]
     },
     "execution_count": 14,
     "metadata": {},
     "output_type": "execute_result"
    }
   ],
   "source": [
    "mean_"
   ]
  },
  {
   "cell_type": "code",
   "execution_count": null,
   "metadata": {},
   "outputs": [],
   "source": []
  }
 ],
 "metadata": {
  "kernelspec": {
   "display_name": "Python 3",
   "language": "python",
   "name": "python3"
  },
  "language_info": {
   "codemirror_mode": {
    "name": "ipython",
    "version": 3
   },
   "file_extension": ".py",
   "mimetype": "text/x-python",
   "name": "python",
   "nbconvert_exporter": "python",
   "pygments_lexer": "ipython3",
   "version": "3.8.3"
  }
 },
 "nbformat": 4,
 "nbformat_minor": 4
}
