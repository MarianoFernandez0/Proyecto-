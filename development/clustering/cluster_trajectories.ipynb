{
 "cells": [
  {
   "cell_type": "code",
   "execution_count": 1,
   "metadata": {},
   "outputs": [],
   "source": [
    "import cv2\n",
    "import numpy as np\n",
    "import pandas as pd\n",
    "import matplotlib.pyplot as plt\n",
    "from sklearn.cluster import KMeans"
   ]
  },
  {
   "cell_type": "code",
   "execution_count": 152,
   "metadata": {
    "scrolled": false
   },
   "outputs": [
    {
     "name": "stdout",
     "output_type": "stream",
     "text": [
      "encodes (172, 100)\n",
      "tracks (3518, 5)\n",
      "ids 172\n",
      "frames 118\n",
      "km.labels_ 172\n"
     ]
    },
    {
     "name": "stderr",
     "output_type": "stream",
     "text": [
      "<ipython-input-152-80385c50b15d>:24: RuntimeWarning: Mean of empty slice\n",
      "  mean_fluorescence.append(np.nanmean(tracks[tracks[:, 0] == track_id][:, 3]))\n"
     ]
    },
    {
     "data": {
      "image/png": "[encoded data removed]",
      "text/plain": [
       "<Figure size 432x288 with 1 Axes>"
      ]
     },
     "metadata": {
      "needs_background": "light"
     },
     "output_type": "display_data"
    },
    {
     "data": {
      "image/png": "[encoded data removed]",
      "text/plain": [
       "<Figure size 1080x720 with 1 Axes>"
      ]
     },
     "metadata": {
      "needs_background": "light"
     },
     "output_type": "display_data"
    }
   ],
   "source": [
    "video = 'good_video'\n",
    "encodes = np.load('data/individual/' + video + '/encodes.npy')\n",
    "print('encodes', encodes.shape)\n",
    "\n",
    "tracks = np.genfromtxt('data/individual/' + video + '/tracks.csv', delimiter=',', skip_header=True)\n",
    "print('tracks', tracks.shape)\n",
    "ids = np.unique(tracks[:, 0])\n",
    "print('ids', len(ids))\n",
    "frames = np.unique(tracks[:, 4])\n",
    "print('frames', len(frames))\n",
    "# id,x,y,fluorescence,frame\n",
    "\n",
    "km = KMeans(n_clusters=4)\n",
    "km.fit(encodes)\n",
    "# print(km.labels_)\n",
    "print('km.labels_', len(km.labels_))\n",
    "\n",
    "tracks_info = pd.DataFrame(columns=['id', 'label', 'mean_fluorescence'])\n",
    "tracks_info['id'] = ids\n",
    "tracks_info['label'] = km.labels_\n",
    "# print(tracks_info)\n",
    "mean_fluorescence = []\n",
    "for k, track_id in enumerate(ids):\n",
    "    mean_fluorescence.append(np.nanmean(tracks[tracks[:, 0] == track_id][:, 3]))\n",
    "tracks_info['mean_fluorescence'] = mean_fluorescence\n",
    "# print(tracks_info)\n",
    "plt.scatter(tracks_info['label'], tracks_info['mean_fluorescence'])\n",
    "plt.xticks([0, 1, 2, 3])\n",
    "plt.show()\n",
    "\n",
    "labels_groups = tracks_info.groupby('label')['mean_fluorescence'].describe()\n",
    "# print(labels_groups)\n",
    "width = 0.3\n",
    "fig = plt.figure(figsize=(15, 10))\n",
    "ax = fig.gca()\n",
    "# ax.bar(labels_groups.index + width*(-2), labels_groups['min'], width, label='min')\n",
    "ax.bar(labels_groups.index + width*(0), labels_groups['mean'], width, label='mean, err=std', alpha=0.8)\n",
    "ax.errorbar(labels_groups.index, labels_groups['mean'], yerr = labels_groups['std'], label='std',\n",
    "            fmt=' ', ecolor='k', capsize=10)\n",
    "# ax.bar(labels_groups.index + width*(0), labels_groups['50%'], width, label='median')\n",
    "# ax.bar(labels_groups.index + width*(1), labels_groups['max'], width, label='max')\n",
    "ax.yaxis.grid(True)\n",
    "plt.xticks([0, 1, 2, 3])\n",
    "plt.legend()\n",
    "plt.title(video)\n",
    "ax.set_xlabel('label')\n",
    "ax.set_ylabel('mean_fluorescence')\n",
    "plt.show()\n",
    "fig.savefig('data/individual/' + video + '/mean_fluorescence.png')"
   ]
  },
  {
   "cell_type": "code",
   "execution_count": 44,
   "metadata": {},
   "outputs": [
    {
     "name": "stdout",
     "output_type": "stream",
     "text": [
      "encodes_old (5, 100)\n",
      "encodes (5, 100)\n",
      "\n",
      "\n",
      "encodes - encodes_1:    7.211552\n",
      "encodes - encodes_2:    7.0640173\n",
      "encodes_1 - encodes_2:  6.831568\n",
      "\n",
      "\n",
      "encodes[0, :] - encodes[0, :]:      0.0\n",
      "encodes_1[0, :] - encodes_1[0, :]:  0.0\n",
      "encodes_2[0, :] - encodes_2[0, :]:  0.0\n",
      "encodes[0, :] - encodes_1[0, :]:    1.9486469\n",
      "encodes[0, :] - encodes_2[0, :]:    1.8177702\n",
      "encodes_1[0, :] - encodes_2[0, :]:  1.7233871\n",
      "\n",
      "\n",
      "track 0 - track 1\n",
      "encodes[0, :] - encodes[1, :]:      0.97254306\n",
      "encodes_1[0, :] - encodes_1[1, :]:  0.9192217\n",
      "encodes_2[0, :] - encodes_2[1, :]:  0.92799354\n",
      "encodes[0, :] - encodes_1[1, :]:    2.1785927\n",
      "encodes[0, :] - encodes_2[1, :]:    2.1070974\n",
      "encodes_1[0, :] - encodes_2[1, :]:  2.0207903\n",
      "\n",
      "\n",
      "track 0 - track 2\n",
      "encodes[0, :] - encodes[2, :]:      0.8776459\n",
      "encodes_1[0, :] - encodes_1[2, :]:  0.922174\n",
      "encodes_2[0, :] - encodes_2[2, :]:  0.87832665\n",
      "encodes[0, :] - encodes_1[2, :]:    2.6026645\n",
      "encodes[0, :] - encodes_2[2, :]:    2.3808975\n",
      "encodes_1[0, :] - encodes_2[2, :]:  2.274453\n",
      "\n",
      "\n",
      "track 1 - track 2\n",
      "encodes[1, :] - encodes[2, :]:      1.1682485\n",
      "encodes_1[1, :] - encodes_1[2, :]:  1.121156\n",
      "encodes_2[1, :] - encodes_2[2, :]:  1.1170084\n",
      "encodes[1, :] - encodes_1[2, :]:    2.6875668\n",
      "encodes[1, :] - encodes_2[2, :]:    2.6925201\n",
      "encodes_1[1, :] - encodes_2[2, :]:  2.4265168\n",
      "\n",
      "\n"
     ]
    }
   ],
   "source": [
    "encodes = np.load('input/test/test_encodes.npy')\n",
    "encodes_1 = np.load('input/test/test_encodes_1.npy')\n",
    "encodes_2 = np.load('input/test/test_encodes_2.npy')\n",
    "\n",
    "print('encodes_old', encodes_old.shape)\n",
    "print('encodes', encodes.shape)\n",
    "\n",
    "# print('encodes_old', encodes_old)\n",
    "# print('encodes', encodes)\n",
    "print('\\n')\n",
    "\n",
    "print('encodes - encodes_1:   ', np.linalg.norm(encodes - encodes_1))\n",
    "print('encodes - encodes_2:   ', np.linalg.norm(encodes - encodes_2))\n",
    "print('encodes_1 - encodes_2: ', np.linalg.norm(encodes_1 - encodes_2))\n",
    "print('\\n')\n",
    "\n",
    "print('encodes[0, :] - encodes[0, :]:     ', np.linalg.norm(encodes[0, :] - encodes[0, :]))\n",
    "print('encodes_1[0, :] - encodes_1[0, :]: ', np.linalg.norm(encodes_1[0, :] - encodes_1[0, :]))\n",
    "print('encodes_2[0, :] - encodes_2[0, :]: ', np.linalg.norm(encodes_2[0, :] - encodes_2[0, :]))\n",
    "\n",
    "print('encodes[0, :] - encodes_1[0, :]:   ', np.linalg.norm(encodes[0, :] - encodes_1[0, :]))\n",
    "print('encodes[0, :] - encodes_2[0, :]:   ', np.linalg.norm(encodes[0, :] - encodes_2[0, :]))\n",
    "print('encodes_1[0, :] - encodes_2[0, :]: ', np.linalg.norm(encodes_1[0, :] - encodes_2[0, :]))\n",
    "print('\\n')\n",
    "\n",
    "print('track 0 - track 1')\n",
    "print('encodes[0, :] - encodes[1, :]:     ', np.linalg.norm(encodes[0, :] - encodes[1, :]))\n",
    "print('encodes_1[0, :] - encodes_1[1, :]: ', np.linalg.norm(encodes_1[0, :] - encodes_1[1, :]))\n",
    "print('encodes_2[0, :] - encodes_2[1, :]: ', np.linalg.norm(encodes_2[0, :] - encodes_2[1, :]))\n",
    "\n",
    "print('encodes[0, :] - encodes_1[1, :]:   ', np.linalg.norm(encodes[0, :] - encodes_1[1, :]))\n",
    "print('encodes[0, :] - encodes_2[1, :]:   ', np.linalg.norm(encodes[0, :] - encodes_2[1, :]))\n",
    "print('encodes_1[0, :] - encodes_2[1, :]: ', np.linalg.norm(encodes_1[0, :] - encodes_2[1, :]))\n",
    "print('\\n')\n",
    "\n",
    "print('track 0 - track 2')\n",
    "print('encodes[0, :] - encodes[2, :]:     ', np.linalg.norm(encodes[0, :] - encodes[2, :]))\n",
    "print('encodes_1[0, :] - encodes_1[2, :]: ', np.linalg.norm(encodes_1[0, :] - encodes_1[2, :]))\n",
    "print('encodes_2[0, :] - encodes_2[2, :]: ', np.linalg.norm(encodes_2[0, :] - encodes_2[2, :]))\n",
    "\n",
    "print('encodes[0, :] - encodes_1[2, :]:   ', np.linalg.norm(encodes[0, :] - encodes_1[2, :]))\n",
    "print('encodes[0, :] - encodes_2[2, :]:   ', np.linalg.norm(encodes[0, :] - encodes_2[2, :]))\n",
    "print('encodes_1[0, :] - encodes_2[2, :]: ', np.linalg.norm(encodes_1[0, :] - encodes_2[2, :]))\n",
    "print('\\n')\n",
    "\n",
    "print('track 1 - track 2')\n",
    "print('encodes[1, :] - encodes[2, :]:     ', np.linalg.norm(encodes[1, :] - encodes[2, :]))\n",
    "print('encodes_1[1, :] - encodes_1[2, :]: ', np.linalg.norm(encodes_1[1, :] - encodes_1[2, :]))\n",
    "print('encodes_2[1, :] - encodes_2[2, :]: ', np.linalg.norm(encodes_2[1, :] - encodes_2[2, :]))\n",
    "\n",
    "print('encodes[1, :] - encodes_1[2, :]:   ', np.linalg.norm(encodes[1, :] - encodes_1[2, :]))\n",
    "print('encodes[1, :] - encodes_2[2, :]:   ', np.linalg.norm(encodes[1, :] - encodes_2[2, :]))\n",
    "print('encodes_1[1, :] - encodes_2[2, :]: ', np.linalg.norm(encodes_1[1, :] - encodes_2[2, :]))\n",
    "print('\\n')"
   ]
  }
 ],
 "metadata": {
  "kernelspec": {
   "display_name": "Python 3",
   "language": "python",
   "name": "python3"
  },
  "language_info": {
   "codemirror_mode": {
    "name": "ipython",
    "version": 3
   },
   "file_extension": ".py",
   "mimetype": "text/x-python",
   "name": "python",
   "nbconvert_exporter": "python",
   "pygments_lexer": "ipython3",
   "version": "3.8.2"
  }
 },
 "nbformat": 4,
 "nbformat_minor": 4
}
