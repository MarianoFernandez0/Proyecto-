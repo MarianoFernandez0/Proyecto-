{
 "cells": [
  {
   "cell_type": "markdown",
   "metadata": {},
   "source": [
    "https://docs.python.org/3/library/configparser.html"
   ]
  },
  {
   "cell_type": "code",
   "execution_count": 60,
   "metadata": {},
   "outputs": [],
   "source": [
    "import configparser\n",
    "import numpy as np\n",
    "\n",
    "config = configparser.ConfigParser()\n",
    "config.read('config.txt')\n",
    "config.sections()\n",
    "\n",
    "#Paths\n",
    "HOUSING_PATH_SEQ_OUT = config[\"Output path\"][\"PATH_OUTPUT_DATA_CSV\"]\n",
    "HOUSING_PATH_SEQ_DATA = config[\"Output path\"][\"PATH_OUTPUT_DATA_SEQ\"]\n",
    "\n",
    "#Parameters\n",
    "M, N, frames = config[\"Sequence parameters\"][\"height_width_frames\"].split()\n",
    "rgb = config[\"Sequence parameters\"][\"rgb\"]\n",
    "std_blur = config[\"Sequence parameters\"][\"std_blur\"]\n",
    "\n",
    "#load populations\n",
    "all_population = []\n",
    "for pop in ((config.sections())[2:]):\n",
    "    population = {\n",
    "    'particles': config[pop][\"tot_particles\"],\n",
    "    'mean': np.array(config[pop][\"mean\"].split(), dtype = np.float),\n",
    "    'std_mean': (np.array(config[pop][\"std_mean\"].split(), dtype = np.float)).reshape(2,2),\n",
    "    'mean_velocity': config[pop][\"mean_velocity\"],\n",
    "    'std_velocity': config[pop][\"std_velocity\"],\n",
    "    'std_direction': config[pop][\"std_direction\"],  #ex std_theta  \n",
    "    'std_head_displ': config[pop][\"std_head_displ\"],\n",
    "    'std_depth': config[pop][\"std_depth\"],\n",
    "    }"
   ]
  },
  {
   "cell_type": "code",
   "execution_count": null,
   "metadata": {},
   "outputs": [],
   "source": []
  }
 ],
 "metadata": {
  "kernelspec": {
   "display_name": "Python 3",
   "language": "python",
   "name": "python3"
  },
  "language_info": {
   "codemirror_mode": {
    "name": "ipython",
    "version": 3
   },
   "file_extension": ".py",
   "mimetype": "text/x-python",
   "name": "python",
   "nbconvert_exporter": "python",
   "pygments_lexer": "ipython3",
   "version": "3.8.2"
  }
 },
 "nbformat": 4,
 "nbformat_minor": 4
}
