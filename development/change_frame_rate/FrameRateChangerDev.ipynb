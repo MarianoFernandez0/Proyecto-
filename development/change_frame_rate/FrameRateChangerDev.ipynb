{
 "cells": [
  {
   "cell_type": "code",
   "execution_count": 3,
   "metadata": {},
   "outputs": [],
   "source": [
    "import tifffile\n",
    "import numpy as np\n",
    "\n",
    "def change_frame_rate(path_to_file, drop_every):\n",
    "    '''\n",
    "    Function that given an input path, reads the corresponding tiff file and \n",
    "    makes another tiffile droping every an specified number of frames\n",
    "    \n",
    "    Inputs:\n",
    "        - path_to_file: String to the location of the tiff file \n",
    "        - drop_every: Integer value. \n",
    "    '''\n",
    "    \n",
    "    tiff_in = tifffile.TiffFile(path_to_file)\n",
    "    sequence_in = tiff_in.asarray()\n",
    "    sequence_out = sequence_in[path_to_file % drop_every!=0]\n",
    "    with TiffWriter(path_out_tiff + \"/\" + file_name + \".tif\", bigtiff=True) as tif:\n",
    "    for frame in range(sequence.shape[0]):\n",
    "        tif.save((sequence[frame]))\n",
    "    return"
   ]
  },
  {
   "cell_type": "code",
   "execution_count": 13,
   "metadata": {},
   "outputs": [
    {
     "data": {
      "text/plain": [
       "array([0, 1, 2, 3, 4, 5, 6, 7, 8, 9])"
      ]
     },
     "execution_count": 13,
     "metadata": {},
     "output_type": "execute_result"
    }
   ],
   "source": [
    "test = np.arange(10)\n",
    "test"
   ]
  },
  {
   "cell_type": "code",
   "execution_count": 17,
   "metadata": {},
   "outputs": [
    {
     "data": {
      "text/plain": [
       "array([0, 1, 2, 0, 1, 2, 0, 1, 2, 0])"
      ]
     },
     "execution_count": 17,
     "metadata": {},
     "output_type": "execute_result"
    }
   ],
   "source": [
    "test % 3"
   ]
  },
  {
   "cell_type": "code",
   "execution_count": 19,
   "metadata": {},
   "outputs": [
    {
     "data": {
      "text/plain": [
       "array([1, 2, 4, 5, 7, 8])"
      ]
     },
     "execution_count": 19,
     "metadata": {},
     "output_type": "execute_result"
    }
   ],
   "source": [
    "test[test % 3 != 0]"
   ]
  },
  {
   "cell_type": "code",
   "execution_count": null,
   "metadata": {},
   "outputs": [],
   "source": []
  }
 ],
 "metadata": {
  "kernelspec": {
   "display_name": "Python 3",
   "language": "python",
   "name": "python3"
  },
  "language_info": {
   "codemirror_mode": {
    "name": "ipython",
    "version": 3
   },
   "file_extension": ".py",
   "mimetype": "text/x-python",
   "name": "python",
   "nbconvert_exporter": "python",
   "pygments_lexer": "ipython3",
   "version": "3.8.2"
  }
 },
 "nbformat": 4,
 "nbformat_minor": 4
}
