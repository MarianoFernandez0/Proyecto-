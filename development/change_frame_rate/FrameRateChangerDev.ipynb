{
 "cells": [
  {
   "cell_type": "code",
   "execution_count": 81,
   "metadata": {},
   "outputs": [],
   "source": [
    "import tifffile\n",
    "import numpy as np\n",
    "\n",
    "def change_frame_rate(path_to_file, sub_sample):\n",
    "    '''\n",
    "    Function that given an input path, reads the corresponding tiff file and \n",
    "    makes another tiffile sampling with period sub_sample\n",
    "    \n",
    "    Inputs:\n",
    "        - path_to_file: String to the location of the tiff file \n",
    "        - sub_sample: Integer value. \n",
    "    '''\n",
    "    \n",
    "    tiff_in = tifffile.TiffFile(path_to_file)\n",
    "    sequence_in = tiff_in.asarray()\n",
    "    sequence_out = sequence_in[np.arange(sequence_in.shape[0]) % sub_sample ==0]\n",
    "    out_path = path_to_file.split(\".\")[0] + \"_drop_every%d.tiff\" % sub_sample\n",
    "    with tifffile.TiffWriter(out_path, bigtiff=True) as tif:\n",
    "        for frame in range(sequence_out.shape[0]):\n",
    "            tif.save((sequence_out[frame]))\n",
    "    return"
   ]
  },
  {
   "cell_type": "code",
   "execution_count": 82,
   "metadata": {},
   "outputs": [],
   "source": [
    "change_frame_rate(\"seq.tif\", 4)"
   ]
  },
  {
   "cell_type": "code",
   "execution_count": null,
   "metadata": {},
   "outputs": [],
   "source": []
  }
 ],
 "metadata": {
  "kernelspec": {
   "display_name": "Python 3",
   "language": "python",
   "name": "python3"
  },
  "language_info": {
   "codemirror_mode": {
    "name": "ipython",
    "version": 3
   },
   "file_extension": ".py",
   "mimetype": "text/x-python",
   "name": "python",
   "nbconvert_exporter": "python",
   "pygments_lexer": "ipython3",
   "version": "3.8.2"
  }
 },
 "nbformat": 4,
 "nbformat_minor": 4
}
