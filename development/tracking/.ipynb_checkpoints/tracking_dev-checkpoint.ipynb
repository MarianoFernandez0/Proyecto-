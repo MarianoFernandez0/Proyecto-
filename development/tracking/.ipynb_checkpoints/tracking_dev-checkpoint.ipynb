{
 "cells": [
  {
   "cell_type": "code",
   "execution_count": 1,
   "metadata": {},
   "outputs": [],
   "source": [
    "import pandas as pd\n",
    "'''\n",
    "Voy a intentar hacer un tracking utilizando la JPDAF.\n",
    "'''\n",
    "\n",
    "'Cargo datos'\n",
    "df_detections = pd.read_csv(\"./input_data/salida_sigma_0_0_data.csv\")"
   ]
  },
  {
   "cell_type": "code",
   "execution_count": 46,
   "metadata": {},
   "outputs": [
    {
     "ename": "SyntaxError",
     "evalue": "unexpected EOF while parsing (<ipython-input-46-e9175bca4068>, line 10)",
     "output_type": "error",
     "traceback": [
      "\u001b[0;36m  File \u001b[0;32m\"<ipython-input-46-e9175bca4068>\"\u001b[0;36m, line \u001b[0;32m10\u001b[0m\n\u001b[0;31m    \u001b[0m\n\u001b[0m    ^\u001b[0m\n\u001b[0;31mSyntaxError\u001b[0m\u001b[0;31m:\u001b[0m unexpected EOF while parsing\n"
     ]
    }
   ],
   "source": [
    "frames = int(df_detections[\"frame\"].max())\n",
    "tracks = pd.DataFrame(columns=[\"id_track\", \"x\", \"y\", \"frame\"])\n",
    "coordinates_frames = df_detections[[\"x\", \"y\", \"frame\"]]\n",
    "id_nex_track = 0\n",
    "\n",
    "\n",
    "\"Inicializo registro de track\"\n",
    "for frame in range(frames):\n",
    "    coordinates_df = coordinates_frames[coordinates_frames[\"frame\"] == frame]\n",
    "    coordinates = coordinates_df[[\"x\", \"y\"]].to_numpy()\n",
    "    for coordinate in coordinate:\n",
    "        if tracks.size == 0:\n",
    "            tracks = tracks.add{\n",
    "                \"id_track\" : ,\n",
    "                \"x\" : ,\n",
    "                \"y\" : ,\n",
    "                \"frame\" : \n",
    "            }\n",
    "        "
   ]
  }
 ],
 "metadata": {
  "kernelspec": {
   "display_name": "Python 3",
   "language": "python",
   "name": "python3"
  },
  "language_info": {
   "codemirror_mode": {
    "name": "ipython",
    "version": 3
   },
   "file_extension": ".py",
   "mimetype": "text/x-python",
   "name": "python",
   "nbconvert_exporter": "python",
   "pygments_lexer": "ipython3",
   "version": "3.8.2"
  }
 },
 "nbformat": 4,
 "nbformat_minor": 4
}
