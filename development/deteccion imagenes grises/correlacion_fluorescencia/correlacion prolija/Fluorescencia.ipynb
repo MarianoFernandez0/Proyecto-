{
 "cells": [
  {
   "cell_type": "code",
   "execution_count": 1,
   "metadata": {},
   "outputs": [],
   "source": [
    "import pandas as pd\n",
    "import numpy as np"
   ]
  },
  {
   "cell_type": "code",
   "execution_count": 34,
   "metadata": {},
   "outputs": [],
   "source": [
    "entrada = pd.read_csv(\"in_nn.csv\")\n",
    "salida = pd.read_csv(\"out_nn.csv\")\n",
    "entrada.columns = ['nro_index','y','x','frame','ctcf','mean_gray_value']"
   ]
  },
  {
   "cell_type": "code",
   "execution_count": 35,
   "metadata": {},
   "outputs": [
    {
     "name": "stderr",
     "output_type": "stream",
     "text": [
      "C:\\Users\\lucel\\Anaconda3\\lib\\site-packages\\ipykernel_launcher.py:25: SettingWithCopyWarning: \n",
      "A value is trying to be set on a copy of a slice from a DataFrame\n",
      "\n",
      "See the caveats in the documentation: http://pandas.pydata.org/pandas-docs/stable/indexing.html#indexing-view-versus-copy\n"
     ]
    }
   ],
   "source": [
    "for i in range (salida['frame'].max()+1):\n",
    "    \n",
    "    if len(salida.loc[salida['frame'] == i]) != 0:\n",
    "        \n",
    "        new_in = entrada.loc[entrada['frame'] == i]\n",
    "        new_in = new_in.reset_index()\n",
    "        new_out = salida.loc[salida['frame'] == i]\n",
    "        #new_out = new_out.reset_index()\n",
    "        \n",
    "    \n",
    "        for index_out, row in new_out.iterrows():\n",
    "            x_out, y_out = new_out.loc[index_out, \"x\"], new_out.loc[index_out, \"y\"]\n",
    "            id_out = new_out.at[index_out,'id']\n",
    "            dist = []\n",
    "        \n",
    "            for index_in , row in new_in.iterrows():\n",
    "                x_in, y_in = new_in.loc[index_in, \"x\"], new_in.loc[index_in, \"y\"]\n",
    "                distance = np.sqrt((x_out-x_in)**2 + (y_out-y_in)**2)\n",
    "                dist.append(distance)\n",
    "            \n",
    "            if len(dist) != 0:\n",
    "                #print(np.argmin(dist))\n",
    "                id_in = new_in.at[np.argmin(dist),'nro_index']\n",
    "                mean_gray_value = new_in.loc[np.argmin(dist), 'mean_gray_value']\n",
    "                salida[\"fluorescence\"][index_out] = mean_gray_value"
   ]
  },
  {
   "cell_type": "code",
   "execution_count": 37,
   "metadata": {},
   "outputs": [],
   "source": [
    "out_fluorescencia_nn = salida.sort_values(by=['id', 'frame'])\n",
    "out_fluorescencia_nn.to_csv(r'out_fluorescencia_nn.csv')"
   ]
  },
  {
   "cell_type": "code",
   "execution_count": null,
   "metadata": {},
   "outputs": [],
   "source": []
  }
 ],
 "metadata": {
  "kernelspec": {
   "display_name": "Python 3",
   "language": "python",
   "name": "python3"
  },
  "language_info": {
   "codemirror_mode": {
    "name": "ipython",
    "version": 3
   },
   "file_extension": ".py",
   "mimetype": "text/x-python",
   "name": "python",
   "nbconvert_exporter": "python",
   "pygments_lexer": "ipython3",
   "version": "3.8.2"
  }
 },
 "nbformat": 4,
 "nbformat_minor": 2
}
