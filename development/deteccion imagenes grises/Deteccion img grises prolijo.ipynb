{
 "cells": [
  {
   "cell_type": "code",
   "execution_count": 1,
   "metadata": {},
   "outputs": [],
   "source": [
    "import imageio\n",
    "import cv2\n",
    "import numpy as np\n",
    "import matplotlib.pyplot as plt"
   ]
  },
  {
   "cell_type": "code",
   "execution_count": 2,
   "metadata": {},
   "outputs": [],
   "source": [
    "def sobel_filtering(im):\n",
    "    dx = ndimage.sobel(im, 0)  # horizontal derivative\n",
    "    dy = ndimage.sobel(im, 1)  # vertical derivative\n",
    "    mag = np.hypot(dx, dy)  # magnitude\n",
    "    mag *= 255.0 / np.max(mag)  # normalize (Q&D)\n",
    "    return mag"
   ]
  },
  {
   "cell_type": "code",
   "execution_count": 3,
   "metadata": {},
   "outputs": [],
   "source": [
    "def morf_operations(img_in,kernel):\n",
    "    dilation = cv2.dilate(img_in,kernel,iterations = 1)\n",
    "    closing = cv2.morphologyEx(dilation, cv2.MORPH_CLOSE, kernel)\n",
    "    erosion = cv2.erode(dilation,kernel,iterations = 1)\n",
    "    return erosion"
   ]
  },
  {
   "cell_type": "code",
   "execution_count": 4,
   "metadata": {},
   "outputs": [
    {
     "ename": "FileNotFoundError",
     "evalue": "No such file: '/Users/leonardodelossantos/Desktop/FING/Proyecto/Proyecto-/development/deteccion imagenes grises/1472 semen-00.avi'",
     "output_type": "error",
     "traceback": [
      "\u001b[0;31m---------------------------------------------------------------------------\u001b[0m",
      "\u001b[0;31mFileNotFoundError\u001b[0m                         Traceback (most recent call last)",
      "\u001b[0;32m<ipython-input-4-00d6ad97d1f0>\u001b[0m in \u001b[0;36m<module>\u001b[0;34m\u001b[0m\n\u001b[1;32m      1\u001b[0m \u001b[0;31m# Cargar imagen\u001b[0m\u001b[0;34m\u001b[0m\u001b[0;34m\u001b[0m\u001b[0m\n\u001b[0;32m----> 2\u001b[0;31m \u001b[0mvideo\u001b[0m \u001b[0;34m=\u001b[0m \u001b[0mimageio\u001b[0m\u001b[0;34m.\u001b[0m\u001b[0mmimread\u001b[0m\u001b[0;34m(\u001b[0m\u001b[0;34m'1472 semen-00.avi'\u001b[0m\u001b[0;34m)\u001b[0m\u001b[0;34m\u001b[0m\u001b[0m\n\u001b[0m\u001b[1;32m      3\u001b[0m \u001b[0mvideo_sin_detecciones\u001b[0m \u001b[0;34m=\u001b[0m \u001b[0mimageio\u001b[0m\u001b[0;34m.\u001b[0m\u001b[0mmimread\u001b[0m\u001b[0;34m(\u001b[0m\u001b[0;34m'1472 semen-00s.avi'\u001b[0m\u001b[0;34m)\u001b[0m\u001b[0;34m\u001b[0m\u001b[0m\n\u001b[1;32m      4\u001b[0m \u001b[0;34m\u001b[0m\u001b[0m\n\u001b[1;32m      5\u001b[0m \u001b[0mplt\u001b[0m\u001b[0;34m.\u001b[0m\u001b[0mimshow\u001b[0m\u001b[0;34m(\u001b[0m\u001b[0mvideo_sin_detecciones\u001b[0m\u001b[0;34m[\u001b[0m\u001b[0;36m0\u001b[0m\u001b[0;34m]\u001b[0m\u001b[0;34m[\u001b[0m\u001b[0;36m0\u001b[0m\u001b[0;34m:\u001b[0m\u001b[0;36m150\u001b[0m\u001b[0;34m,\u001b[0m\u001b[0;36m0\u001b[0m\u001b[0;34m:\u001b[0m\u001b[0;36m150\u001b[0m\u001b[0;34m]\u001b[0m\u001b[0;34m,\u001b[0m\u001b[0mcmap\u001b[0m\u001b[0;34m=\u001b[0m\u001b[0;34m'gray'\u001b[0m\u001b[0;34m)\u001b[0m\u001b[0;34m\u001b[0m\u001b[0m\n",
      "\u001b[0;32m~/opt/anaconda3/envs/project/lib/python3.7/site-packages/imageio/core/functions.py\u001b[0m in \u001b[0;36mmimread\u001b[0;34m(uri, format, memtest, **kwargs)\u001b[0m\n\u001b[1;32m    352\u001b[0m \u001b[0;34m\u001b[0m\u001b[0m\n\u001b[1;32m    353\u001b[0m     \u001b[0;31m# Get reader\u001b[0m\u001b[0;34m\u001b[0m\u001b[0;34m\u001b[0m\u001b[0m\n\u001b[0;32m--> 354\u001b[0;31m     \u001b[0mreader\u001b[0m \u001b[0;34m=\u001b[0m \u001b[0mread\u001b[0m\u001b[0;34m(\u001b[0m\u001b[0muri\u001b[0m\u001b[0;34m,\u001b[0m \u001b[0mformat\u001b[0m\u001b[0;34m,\u001b[0m \u001b[0;34m\"I\"\u001b[0m\u001b[0;34m,\u001b[0m \u001b[0;34m**\u001b[0m\u001b[0mkwargs\u001b[0m\u001b[0;34m)\u001b[0m\u001b[0;34m\u001b[0m\u001b[0m\n\u001b[0m\u001b[1;32m    355\u001b[0m     \u001b[0mnbyte_limit\u001b[0m \u001b[0;34m=\u001b[0m \u001b[0mto_nbytes\u001b[0m\u001b[0;34m(\u001b[0m\u001b[0mmemtest\u001b[0m\u001b[0;34m,\u001b[0m \u001b[0mMEMTEST_DEFAULT_MIM\u001b[0m\u001b[0;34m)\u001b[0m\u001b[0;34m\u001b[0m\u001b[0m\n\u001b[1;32m    356\u001b[0m \u001b[0;34m\u001b[0m\u001b[0m\n",
      "\u001b[0;32m~/opt/anaconda3/envs/project/lib/python3.7/site-packages/imageio/core/functions.py\u001b[0m in \u001b[0;36mget_reader\u001b[0;34m(uri, format, mode, **kwargs)\u001b[0m\n\u001b[1;32m    170\u001b[0m \u001b[0;34m\u001b[0m\u001b[0m\n\u001b[1;32m    171\u001b[0m     \u001b[0;31m# Create request object\u001b[0m\u001b[0;34m\u001b[0m\u001b[0;34m\u001b[0m\u001b[0m\n\u001b[0;32m--> 172\u001b[0;31m     \u001b[0mrequest\u001b[0m \u001b[0;34m=\u001b[0m \u001b[0mRequest\u001b[0m\u001b[0;34m(\u001b[0m\u001b[0muri\u001b[0m\u001b[0;34m,\u001b[0m \u001b[0;34m\"r\"\u001b[0m \u001b[0;34m+\u001b[0m \u001b[0mmode\u001b[0m\u001b[0;34m,\u001b[0m \u001b[0;34m**\u001b[0m\u001b[0mkwargs\u001b[0m\u001b[0;34m)\u001b[0m\u001b[0;34m\u001b[0m\u001b[0m\n\u001b[0m\u001b[1;32m    173\u001b[0m \u001b[0;34m\u001b[0m\u001b[0m\n\u001b[1;32m    174\u001b[0m     \u001b[0;31m# Get format\u001b[0m\u001b[0;34m\u001b[0m\u001b[0;34m\u001b[0m\u001b[0m\n",
      "\u001b[0;32m~/opt/anaconda3/envs/project/lib/python3.7/site-packages/imageio/core/request.py\u001b[0m in \u001b[0;36m__init__\u001b[0;34m(self, uri, mode, **kwargs)\u001b[0m\n\u001b[1;32m    122\u001b[0m \u001b[0;34m\u001b[0m\u001b[0m\n\u001b[1;32m    123\u001b[0m         \u001b[0;31m# Parse what was given\u001b[0m\u001b[0;34m\u001b[0m\u001b[0;34m\u001b[0m\u001b[0m\n\u001b[0;32m--> 124\u001b[0;31m         \u001b[0mself\u001b[0m\u001b[0;34m.\u001b[0m\u001b[0m_parse_uri\u001b[0m\u001b[0;34m(\u001b[0m\u001b[0muri\u001b[0m\u001b[0;34m)\u001b[0m\u001b[0;34m\u001b[0m\u001b[0m\n\u001b[0m\u001b[1;32m    125\u001b[0m \u001b[0;34m\u001b[0m\u001b[0m\n\u001b[1;32m    126\u001b[0m         \u001b[0;31m# Set extension\u001b[0m\u001b[0;34m\u001b[0m\u001b[0;34m\u001b[0m\u001b[0m\n",
      "\u001b[0;32m~/opt/anaconda3/envs/project/lib/python3.7/site-packages/imageio/core/request.py\u001b[0m in \u001b[0;36m_parse_uri\u001b[0;34m(self, uri)\u001b[0m\n\u001b[1;32m    258\u001b[0m                 \u001b[0;31m# Reading: check that the file exists (but is allowed a dir)\u001b[0m\u001b[0;34m\u001b[0m\u001b[0;34m\u001b[0m\u001b[0m\n\u001b[1;32m    259\u001b[0m                 \u001b[0;32mif\u001b[0m \u001b[0;32mnot\u001b[0m \u001b[0mos\u001b[0m\u001b[0;34m.\u001b[0m\u001b[0mpath\u001b[0m\u001b[0;34m.\u001b[0m\u001b[0mexists\u001b[0m\u001b[0;34m(\u001b[0m\u001b[0mfn\u001b[0m\u001b[0;34m)\u001b[0m\u001b[0;34m:\u001b[0m\u001b[0;34m\u001b[0m\u001b[0m\n\u001b[0;32m--> 260\u001b[0;31m                     \u001b[0;32mraise\u001b[0m \u001b[0mFileNotFoundError\u001b[0m\u001b[0;34m(\u001b[0m\u001b[0;34m\"No such file: '%s'\"\u001b[0m \u001b[0;34m%\u001b[0m \u001b[0mfn\u001b[0m\u001b[0;34m)\u001b[0m\u001b[0;34m\u001b[0m\u001b[0m\n\u001b[0m\u001b[1;32m    261\u001b[0m             \u001b[0;32melse\u001b[0m\u001b[0;34m:\u001b[0m\u001b[0;34m\u001b[0m\u001b[0m\n\u001b[1;32m    262\u001b[0m                 \u001b[0;31m# Writing: check that the directory to write to does exist\u001b[0m\u001b[0;34m\u001b[0m\u001b[0;34m\u001b[0m\u001b[0m\n",
      "\u001b[0;31mFileNotFoundError\u001b[0m: No such file: '/Users/leonardodelossantos/Desktop/FING/Proyecto/Proyecto-/development/deteccion imagenes grises/1472 semen-00.avi'"
     ]
    }
   ],

   "source": [
    "# Cargar imagen\n",
    "video = imageio.mimread('1472 semen-00.avi')\n",
    "video_con_detecciones = imageio.mimread('1472 semen-00s.avi')\n",
    "\n",
    "#plt.imshow(video_sin_detecciones[0][0:150,0:150],cmap='gray')"
   ]
  },
  {
   "cell_type": "code",
   "execution_count": 6,
   "metadata": {},
   "outputs": [],
   "source": [
    "# Deteccion img grises\n",
    "\n",
    "# Paquetes a importar\n",
    "import cv2\n",
    "from scipy.signal.signaltools import wiener\n",
    "from scipy import ndimage\n",
    "import numpy as np\n",
    "\n",
    "\n",
    "img_in = video[1]\n",
    "\n",
    "greyscale = cv2.cvtColor(img_in, cv2.COLOR_BGR2GRAY) # Convertir a grises\n",
    "wfiltered_img = wiener(greyscale, (3,3))  # Filtro de wiener\n",
    "sobel_img = sobel_filtering(wfiltered_img) # Sobel\n",
    "sobel_img = np.array(sobel_img, dtype=np.uint8)\n",
    "tresh,otsu = cv2.threshold(sobel_img,0,255,cv2.THRESH_BINARY+cv2.THRESH_OTSU)\n",
    "kernel = np.ones((3,3),np.uint8)\n",
    "#apply_morf_op = morf_operations(otsu,kernel)\n",
    "dilation = cv2.dilate(otsu,kernel,iterations = 1)\n",
    "closing = cv2.morphologyEx(otsu, cv2.MORPH_CLOSE, kernel)\n",
    "erosion = cv2.erode(closing,kernel,iterations = 1)"
   ]
  },
  {
   "cell_type": "code",
   "execution_count": 18,
   "metadata": {},
   "outputs": [],
   "source": [
    "%matplotlib qt\n",
    "# Probar con LOG\n",
    "\n",
    "# Apply Gaussian Blur\n",
    "img = np.zeros((11,11))\n",
    "img[5,5] = 1\n",
    "blur = cv2.GaussianBlur(img,(3,3),4)\n",
    "#plt.imshow(blur,cmap='gray')\n",
    "\n",
    "gaussian_blur = cv2.GaussianBlur(greyscale,(3,3),1.6)\n",
    "#plt.imshow(gaussian_blur,cmap='gray')\n",
    " \n",
    "# Apply Laplacian operator in some higher datatype\n",
    "laplacian = cv2.Laplacian(gaussian_blur,cv2.CV_64F)\n",
    "\n",
    "# Le sumo el valor mas chico de la imagen para que no halla ningun pixel con valor negativo\n",
    "laplacian2 = np.abs(np.min(laplacian)) + laplacian\n",
    "\n",
    "#otsu\n",
    "#norm_image = cv2.normalize(laplacian2, None, alpha = np.min(laplacian), beta = np.max(laplacian), norm_type = cv2.NORM_MINMAX, dtype = cv2.CV_8UC1)\n",
    "laplacian2 = np.array(laplacian2, dtype=np.uint8)\n",
    "tresh,otsu_log = cv2.threshold(laplacian2,0,np.max(laplacian2),cv2.THRESH_BINARY+cv2.THRESH_OTSU)\n",
    "\n",
    "#binarizar\n",
    "#binarized = 1.0 * (laplacian > -15)\n",
    "_, img_binary = cv2.threshold(laplacian, -15, 255, cv2.THRESH_BINARY)\n",
    "\n",
    "\n",
    "imagenes = [greyscale, wfiltered_img, gaussian_blur, laplacian, laplacian2, img_binary]\n",
    "nombres = ['greyscale', 'filtro de wiener', 'gaussiano', 'laplaciano', 'laplacian2', 'img_binary']\n",
    "for i in range(1,7):\n",
    "    plt.subplot(2,3,i),plt.title(nombres[i-1]),plt.imshow(imagenes[i-1][0:150,0:150],cmap='gray')\n",
    "    \n"
   ]
  },
  {
   "cell_type": "code",
   "execution_count": 16,
   "metadata": {},
   "outputs": [
    {
     "name": "stdout",
     "output_type": "stream",
     "text": [
      "(4.0, array([[  0.,   0.,   0., ...,   0., 255., 255.],\n",
      "       [  0.,   0.,   0., ...,   0.,   0., 255.],\n",
      "       [  0.,   0.,   0., ...,   0.,   0., 255.],\n",
      "       ...,\n",
      "       [  0.,   0.,   0., ...,   0.,   0.,   0.],\n",
      "       [  0.,   0.,   0., ...,   0.,   0.,   0.],\n",
      "       [  0.,   0.,   0., ...,   0.,   0.,   0.]]))\n"
     ]
    }
   ],
   "source": [
    "print(img_binary)"
   ]
  },
  {
   "cell_type": "code",
   "execution_count": 43,
   "metadata": {},
   "outputs": [
    {
     "data": {
      "text/plain": [
       "<matplotlib.image.AxesImage at 0x7f357d924dc0>"
      ]
     },
     "execution_count": 43,
     "metadata": {},
     "output_type": "execute_result"
    }
   ],
   "source": [
    "# Probar adaptative tresholding\n",
    "\n",
    "img=laplacian2\n",
    "th3 = cv2.adaptiveThreshold(img,255,cv2.ADAPTIVE_THRESH_MEAN_C,\\\n",
    "            cv2.THRESH_BINARY,11,2)\n",
    "plt.imshow(th3,cmap='gray')"
   ]
  },
  {
   "cell_type": "code",
   "execution_count": 12,
   "metadata": {},
   "outputs": [
    {
     "data": {
      "text/plain": [
       "[<matplotlib.lines.Line2D at 0x7fc0ed7981c0>]"
      ]
     },
     "execution_count": 12,
     "metadata": {},
     "output_type": "execute_result"
    }
   ],
   "source": [
    "# Construir histograma de imagen laplaciana\n",
    "\n",
    "img=laplacian2\n",
    "\n",
    "def histograma_pixeles (img):\n",
    "    bins = np.zeros((np.max(img)-np.min(img)).astype(int)+1,dtype=np.uint8)\n",
    "    \n",
    "    for i in range(img.shape[0]):\n",
    "        for j in range(img.shape[1]):\n",
    "            val = img[i,j]\n",
    "            bins[(val + np.abs(np.min(img))).astype(int)] = bins[(val + np.abs(np.min(img))).astype(int)] + 1\n",
    "    rango = np.arange(0, (np.max(img)-np.min(img)).astype(int)+1, 1) \n",
    "    return bins, rango\n",
    "\n",
    "bins, rango = histograma_pixeles(laplacian)\n",
    "plt.plot(rango,bins)"
   ]
  },
  {
   "cell_type": "code",
   "execution_count": 14,
   "metadata": {},
   "outputs": [
    {
     "data": {
      "text/plain": [
       "-125.0"
      ]
     },
     "execution_count": 14,
     "metadata": {},
     "output_type": "execute_result"
    }
   ],
   "source": [
    "np.min(laplacian)"
   ]
  },
  {
   "cell_type": "code",
   "execution_count": 44,
   "metadata": {},
   "outputs": [
    {
     "name": "stdout",
     "output_type": "stream",
     "text": [
      "[  1   1   0   0   1   1   0   0   1   1   3   0   1   4   0   1   2   2\n",
      "   3   2   0   2   5   2   8   5   7   5   3   3   6   6   7   3  15   7\n",
      "  11   9  12   8  15   9   7  13  15  19  18  18  24  25  23  33  30  32\n",
      "  25  37  37  31  43  42  39  45  66  37  54  61  49  64  56  40  72  52\n",
      "  67  61  76  72  76  85  92  77  81  95  87  87  93 103  94 110 111  95\n",
      " 103 124 111 130 124 125 118 118 144 133 135 145 135 156 183 177 203 193\n",
      " 182 164 224 236  36  78 184  92 194 229  58 236 190  78 158 169 142  88\n",
      " 164 132  70  11 113 202  81 171 202  93 114 133 101  89 249 198  62   9\n",
      " 173  57 208  73  98  33 195 145 135  81  76  60  42  30  26  14  15   4\n",
      "   5   6   4   5   0   2   2   1   1   1   0   1   0   0   0   0   0   0\n",
      "   1]\n",
      "89\n",
      "14.0\n"
     ]
    }
   ],
   "source": [
    "plt.bar(rango,bins)\n",
    "print(bins)\n",
    "print(bins[139])\n",
    "print(139+np.min(laplacian))"
   ]
  },
  {
   "cell_type": "code",
   "execution_count": 21,
   "metadata": {},
   "outputs": [
    {
     "name": "stdout",
     "output_type": "stream",
     "text": [
      "[ 7 75  8  0  0  0  0  0  0  0 10]\n"
     ]
    }
   ],
   "source": [
    "imagen = np.ones((10,10))\n",
    "imagen[:,0] = 0\n",
    "imagen[9,:] = 10\n",
    "imagen[7:9,0:4] = 2\n",
    "\n",
    "b, r= histograma_pixeles(imagen)\n",
    "plt.subplot(121),plt.imshow(imagen,cmap='gray')\n",
    "plt.subplot(122),plt.bar(r,b)\n",
    "print(b)"
   ]
  },
  {
   "cell_type": "code",
   "execution_count": 22,
   "metadata": {},
   "outputs": [
    {
     "name": "stdout",
     "output_type": "stream",
     "text": [
      "(580, 780)\n"
     ]
    }
   ],
   "source": [
    "print(laplacian.shape)"
   ]
  },
  {
   "cell_type": "code",
   "execution_count": 23,
   "metadata": {},
   "outputs": [],
   "source": [
    "histogram, bin_edges = np.histogram(laplacian, bins=256)\n",
    "plt.plot(bin_edges[150:-2], histogram[150:-1])  # <- or here\n",
    "plt.show()"
   ]
  },
  {
   "cell_type": "code",
   "execution_count": 12,
   "metadata": {},
   "outputs": [
    {
     "data": {
      "text/plain": [
       "<matplotlib.image.AxesImage at 0x7f11cda371c0>"
      ]
     },
     "execution_count": 12,
     "metadata": {},
     "output_type": "execute_result"
    },
    {
     "data": {
      "image/png": "[encoded data removed]",
      "text/plain": [
       "<Figure size 432x288 with 1 Axes>"
      ]
     },
     "metadata": {
      "needs_background": "light"
     },
     "output_type": "display_data"
    }
   ],
   "source": [
    "%matplotlib inline\n",
    "plt.imshow(blur,cmap='gray')"
   ]
  },
  {
   "cell_type": "code",
   "execution_count": 61,
   "metadata": {},
   "outputs": [],
   "source": [
    "# otsu con filtro gaussiano\n",
    "blur = cv2.GaussianBlur(sobel_img,(5,5),0)\n",
    "ret3,filtered_otsu = cv2.threshold(blur,0,255,cv2.THRESH_BINARY+cv2.THRESH_OTSU)\n",
    "closing2 = cv2.morphologyEx(filtered_otsu, cv2.MORPH_CLOSE, kernel) "
   ]
  },
  {
   "cell_type": "code",
   "execution_count": 39,
   "metadata": {},
   "outputs": [],
   "source": [
    "# comparacion metodos sobel con log\n",
    "imagenes = [greyscale, gaussian_blur, otsu]\n",
    "nombres = ['greyscale', 'gaussian_blur', 'otsu']\n",
    "for i in range(1,4):\n",
    "    plt.subplot(1,3,i),plt.title(nombres[i-1]),plt.imshow(imagenes[i-1][0:150,0:150],cmap='gray')"
   ]
  },
  {
   "cell_type": "code",
   "execution_count": 8,
   "metadata": {},
   "outputs": [
    {
     "ename": "IndexError",
     "evalue": "list index out of range",
     "output_type": "error",
     "traceback": [
      "\u001b[0;31m---------------------------------------------------------------------------\u001b[0m",
      "\u001b[0;31mIndexError\u001b[0m                                Traceback (most recent call last)",
      "\u001b[0;32m<ipython-input-8-0506ef740821>\u001b[0m in \u001b[0;36m<module>\u001b[0;34m\u001b[0m\n\u001b[1;32m      8\u001b[0m \u001b[0;34m\u001b[0m\u001b[0m\n\u001b[1;32m      9\u001b[0m \u001b[0;32mfor\u001b[0m \u001b[0mi\u001b[0m \u001b[0;32min\u001b[0m \u001b[0mrange\u001b[0m\u001b[0;34m(\u001b[0m\u001b[0;36m1\u001b[0m\u001b[0;34m,\u001b[0m\u001b[0;36m7\u001b[0m\u001b[0;34m)\u001b[0m\u001b[0;34m:\u001b[0m\u001b[0;34m\u001b[0m\u001b[0;34m\u001b[0m\u001b[0m\n\u001b[0;32m---> 10\u001b[0;31m     \u001b[0mplt\u001b[0m\u001b[0;34m.\u001b[0m\u001b[0msubplot\u001b[0m\u001b[0;34m(\u001b[0m\u001b[0;36m2\u001b[0m\u001b[0;34m,\u001b[0m\u001b[0;36m3\u001b[0m\u001b[0;34m,\u001b[0m\u001b[0mi\u001b[0m\u001b[0;34m)\u001b[0m\u001b[0;34m,\u001b[0m\u001b[0mplt\u001b[0m\u001b[0;34m.\u001b[0m\u001b[0mtitle\u001b[0m\u001b[0;34m(\u001b[0m\u001b[0mnames\u001b[0m\u001b[0;34m[\u001b[0m\u001b[0mi\u001b[0m\u001b[0;34m-\u001b[0m\u001b[0;36m1\u001b[0m\u001b[0;34m]\u001b[0m\u001b[0;34m)\u001b[0m\u001b[0;34m,\u001b[0m\u001b[0mplt\u001b[0m\u001b[0;34m.\u001b[0m\u001b[0mimshow\u001b[0m\u001b[0;34m(\u001b[0m\u001b[0mcosas\u001b[0m\u001b[0;34m[\u001b[0m\u001b[0mi\u001b[0m\u001b[0;34m-\u001b[0m\u001b[0;36m1\u001b[0m\u001b[0;34m]\u001b[0m\u001b[0;34m[\u001b[0m\u001b[0;36m0\u001b[0m\u001b[0;34m:\u001b[0m\u001b[0;36m150\u001b[0m\u001b[0;34m,\u001b[0m\u001b[0;36m0\u001b[0m\u001b[0;34m:\u001b[0m\u001b[0;36m150\u001b[0m\u001b[0;34m]\u001b[0m\u001b[0;34m,\u001b[0m\u001b[0mcmap\u001b[0m\u001b[0;34m=\u001b[0m\u001b[0;34m'gray'\u001b[0m\u001b[0;34m)\u001b[0m\u001b[0;34m\u001b[0m\u001b[0;34m\u001b[0m\u001b[0m\n\u001b[0m",
      "\u001b[0;31mIndexError\u001b[0m: list index out of range"
     ]
    }
   ],
   "source": [
    "%matplotlib qt\n",
    "\n",
    "from scipy import ndimage\n",
    "fill_holes = ndimage.morphology.binary_fill_holes(otsu).astype(int)\n",
    "\n",
    "cosas = [greyscale, video_sin_detecciones[0], sobel_img, otsu, fill_holes]\n",
    "names = ['greyscale', 'detecciones casa', 'sobel', 'otsu', 'fill_holes']\n",
    "\n",
    "for i in range(1,7):\n",
    "    plt.subplot(2,3,i),plt.title(names[i-1]),plt.imshow(cosas[i-1][0:150,0:150],cmap='gray')"
   ]
  },
  {
   "cell_type": "code",
   "execution_count": 6,
   "metadata": {},
   "outputs": [
    {
     "ename": "NameError",
     "evalue": "name 'fill_holes' is not defined",
     "output_type": "error",
     "traceback": [
      "\u001b[0;31m---------------------------------------------------------------------------\u001b[0m",
      "\u001b[0;31mNameError\u001b[0m                                 Traceback (most recent call last)",
      "\u001b[0;32m<ipython-input-6-1e6a8dd5cb80>\u001b[0m in \u001b[0;36m<module>\u001b[0;34m\u001b[0m\n\u001b[1;32m      1\u001b[0m \u001b[0mget_ipython\u001b[0m\u001b[0;34m(\u001b[0m\u001b[0;34m)\u001b[0m\u001b[0;34m.\u001b[0m\u001b[0mrun_line_magic\u001b[0m\u001b[0;34m(\u001b[0m\u001b[0;34m'matplotlib'\u001b[0m\u001b[0;34m,\u001b[0m \u001b[0;34m'qt'\u001b[0m\u001b[0;34m)\u001b[0m\u001b[0;34m\u001b[0m\u001b[0;34m\u001b[0m\u001b[0m\n\u001b[0;32m----> 2\u001b[0;31m \u001b[0mcosas\u001b[0m \u001b[0;34m=\u001b[0m \u001b[0;34m[\u001b[0m\u001b[0mgreyscale\u001b[0m\u001b[0;34m,\u001b[0m \u001b[0msobel_img\u001b[0m\u001b[0;34m,\u001b[0m \u001b[0motsu\u001b[0m\u001b[0;34m,\u001b[0m \u001b[0mfill_holes\u001b[0m\u001b[0;34m,\u001b[0m \u001b[0mfiltered_otsu\u001b[0m\u001b[0;34m,\u001b[0m \u001b[0mclosing2\u001b[0m\u001b[0;34m,\u001b[0m\u001b[0mvideo_sin_detecciones\u001b[0m\u001b[0;34m]\u001b[0m\u001b[0;34m\u001b[0m\u001b[0;34m\u001b[0m\u001b[0m\n\u001b[0m\u001b[1;32m      3\u001b[0m \u001b[0mnames\u001b[0m \u001b[0;34m=\u001b[0m \u001b[0;34m[\u001b[0m\u001b[0;34m'greyscale'\u001b[0m\u001b[0;34m,\u001b[0m \u001b[0;34m'sobel'\u001b[0m\u001b[0;34m,\u001b[0m \u001b[0;34m'otsu1'\u001b[0m\u001b[0;34m,\u001b[0m \u001b[0;34m'fill_holes'\u001b[0m\u001b[0;34m,\u001b[0m \u001b[0;34m'otsu2'\u001b[0m\u001b[0;34m,\u001b[0m \u001b[0;34m'closing2'\u001b[0m\u001b[0;34m,\u001b[0m\u001b[0;34m'casa'\u001b[0m\u001b[0;34m]\u001b[0m\u001b[0;34m\u001b[0m\u001b[0;34m\u001b[0m\u001b[0m\n\u001b[1;32m      4\u001b[0m \u001b[0;34m\u001b[0m\u001b[0m\n\u001b[1;32m      5\u001b[0m \u001b[0;32mfor\u001b[0m \u001b[0mi\u001b[0m \u001b[0;32min\u001b[0m \u001b[0mrange\u001b[0m\u001b[0;34m(\u001b[0m\u001b[0;36m1\u001b[0m\u001b[0;34m,\u001b[0m\u001b[0;36m7\u001b[0m\u001b[0;34m)\u001b[0m\u001b[0;34m:\u001b[0m\u001b[0;34m\u001b[0m\u001b[0;34m\u001b[0m\u001b[0m\n",
      "\u001b[0;31mNameError\u001b[0m: name 'fill_holes' is not defined"
     ]
    }
   ],
   "source": [
    "%matplotlib qt\n",
    "cosas = [greyscale, sobel_img, otsu, fill_holes, filtered_otsu, closing2,video_sin_detecciones]\n",
    "names = ['greyscale', 'sobel', 'otsu1', 'fill_holes', 'otsu2', 'closing2','casa']\n",
    "\n",
    "for i in range(1,7):\n",
    "    plt.subplot(2,3,i),plt.title(names[i-1]),plt.imshow(cosas[i-1][0:150,0:150],cmap='gray')    "
   ]
  },
  {
   "cell_type": "code",
   "execution_count": 17,
   "metadata": {},
   "outputs": [],
   "source": [
    "plt.imsave('salida2.jpeg',apply_morf_op,cmap='gray')"
   ]
  },
  {
   "cell_type": "code",
   "execution_count": 18,
   "metadata": {},
   "outputs": [
    {
     "data": {
      "text/plain": [
       "<matplotlib.image.AxesImage at 0x7fb617b3ae80>"
      ]
     },
     "execution_count": 18,
     "metadata": {},
     "output_type": "execute_result"
    }
   ],
   "source": [
    "%matplotlib qt\n",
    "plt.imshow(apply_morf_op,cmap='gray')"
   ]
  },
  {
   "cell_type": "code",
   "execution_count": null,
   "metadata": {},
   "outputs": [],
   "source": [
    "def gray_detection(img_in):\n",
    "    greyscale = cv2.cvtColor(img_in, cv2.COLOR_BGR2GRAY) # Convertir a grises\n",
    "    wfiltered_img = wiener(greyscale, (3,3))  # Filtro de wiener\n",
    "    sobel_img = sobel_filtering(wfiltered_img) # Sobel\n",
    "    sobel_img = np.array(sobel_img, dtype=np.uint8)\n",
    "    tresh,otsu = cv2.threshold(sobel_img,0,255,cv2.THRESH_BINARY+cv2.THRESH_OTSU)\n",
    "    kernel = np.ones((3,3),np.uint8)\n",
    "    apply_morf_op = morf_operations(otsu,kernel)\n",
    "return apply_morf_op"
   ]
  },
  {
   "cell_type": "code",
   "execution_count": 32,
   "metadata": {},
   "outputs": [
    {
     "ename": "ModuleNotFoundError",
     "evalue": "No module named 'ij'",
     "output_type": "error",
     "traceback": [
      "\u001b[0;31m---------------------------------------------------------------------------\u001b[0m",
      "\u001b[0;31mModuleNotFoundError\u001b[0m                       Traceback (most recent call last)",
      "\u001b[0;32m<ipython-input-32-11a292dbb517>\u001b[0m in \u001b[0;36m<module>\u001b[0;34m\u001b[0m\n\u001b[1;32m      1\u001b[0m \u001b[0;32mimport\u001b[0m \u001b[0msys\u001b[0m\u001b[0;34m\u001b[0m\u001b[0;34m\u001b[0m\u001b[0m\n\u001b[1;32m      2\u001b[0m \u001b[0;34m\u001b[0m\u001b[0m\n\u001b[0;32m----> 3\u001b[0;31m \u001b[0;32mfrom\u001b[0m \u001b[0mij\u001b[0m \u001b[0;32mimport\u001b[0m \u001b[0mIJ\u001b[0m\u001b[0;34m\u001b[0m\u001b[0;34m\u001b[0m\u001b[0m\n\u001b[0m\u001b[1;32m      4\u001b[0m \u001b[0;32mfrom\u001b[0m \u001b[0mij\u001b[0m \u001b[0;32mimport\u001b[0m \u001b[0mWindowManager\u001b[0m\u001b[0;34m\u001b[0m\u001b[0;34m\u001b[0m\u001b[0m\n",
      "\u001b[0;31mModuleNotFoundError\u001b[0m: No module named 'ij'"
     ]
    }
   ],
   "source": [
    "import sys\n",
    " \n",
    "from ij import IJ\n",
    "from ij import WindowManager"
   ]
  },
  {
   "cell_type": "code",
   "execution_count": null,
   "metadata": {},
   "outputs": [],
   "source": []
  }
 ],
 "metadata": {
  "kernelspec": {
   "display_name": "Python 3",
   "language": "python",
   "name": "python3"
  },
  "language_info": {
   "codemirror_mode": {
    "name": "ipython",
    "version": 3
   },
   "file_extension": ".py",
   "mimetype": "text/x-python",
   "name": "python",
   "nbconvert_exporter": "python",
   "pygments_lexer": "ipython3",
   "version": "3.7.0"
  }
 },
 "nbformat": 4,
 "nbformat_minor": 4
}
