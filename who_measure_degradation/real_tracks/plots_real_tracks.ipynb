{
 "cells": [
  {
   "cell_type": "code",
   "execution_count": 52,
   "metadata": {},
   "outputs": [],
   "source": [
    "import numpy as np\n",
    "import matplotlib.pyplot as plt\n",
    "import pandas as pd\n",
    "import os"
   ]
  },
  {
   "cell_type": "code",
   "execution_count": 53,
   "metadata": {},
   "outputs": [],
   "source": [
    "# leer csv\n",
    "who_measurements_df = pd.read_csv('tracks1026_WHO.csv')"
   ]
  },
  {
   "cell_type": "code",
   "execution_count": 54,
   "metadata": {},
   "outputs": [],
   "source": [
    "keys = ['vcl', 'vsl', 'vap_mean', 'alh_mean', 'lin', 'wob', 'str', 'bcf_mean', 'mad', 'fluo']\n",
    "measures = {}\n",
    "\n",
    "for measure in list(keys):\n",
    "    measures[measure]=who_measurements_df[measure].to_numpy()"
   ]
  },
  {
   "cell_type": "code",
   "execution_count": 68,
   "metadata": {},
   "outputs": [
    {
     "data": {
      "text/plain": [
       "[<matplotlib.lines.Line2D at 0x7f39b9613fa0>]"
      ]
     },
     "execution_count": 68,
     "metadata": {},
     "output_type": "execute_result"
    },
    {
     "data": {
      "image/png": "[encoded data removed]",
      "text/plain": [
       "<Figure size 432x288 with 1 Axes>"
      ]
     },
     "metadata": {
      "needs_background": "light"
     },
     "output_type": "display_data"
    }
   ],
   "source": [
    "plt.plot(measures['vap_mean']/np.max(measures['vap_mean']),measures['fluo']/np.nanmax(measures['fluo']),'*')"
   ]
  },
  {
   "cell_type": "code",
   "execution_count": 67,
   "metadata": {},
   "outputs": [
    {
     "data": {
      "text/plain": [
       "array([0.79688221,        nan, 0.78681893, 0.        ,        nan,\n",
       "              nan,        nan,        nan, 0.84504716, 0.78570896,\n",
       "       0.83982841, 0.81292535,        nan,        nan, 0.86024289,\n",
       "       0.78865098, 0.78076133,        nan,        nan,        nan,\n",
       "              nan, 0.90185493,        nan,        nan, 1.        ,\n",
       "              nan,        nan,        nan, 0.96305257,        nan,\n",
       "              nan,        nan,        nan,        nan, 0.        ,\n",
       "              nan,        nan,        nan, 0.86346972,        nan,\n",
       "              nan,        nan, 0.        , 0.        ,        nan,\n",
       "              nan,        nan, 0.        ,        nan, 0.        ,\n",
       "              nan,        nan,        nan,        nan, 0.        ,\n",
       "       0.        ,        nan,        nan,        nan,        nan,\n",
       "              nan, 0.60399655, 0.        , 0.        , 0.        ,\n",
       "       0.        ,        nan,        nan, 0.        , 0.        ,\n",
       "       0.        ,        nan,        nan,        nan, 0.        ,\n",
       "       0.        ,        nan, 0.83873291, 0.55438584,        nan,\n",
       "       0.56231242, 0.72237676, 0.77599066, 0.        , 0.71159308,\n",
       "              nan, 0.88028642, 0.        ,        nan,        nan,\n",
       "       0.        , 0.52243654])"
      ]
     },
     "execution_count": 67,
     "metadata": {},
     "output_type": "execute_result"
    }
   ],
   "source": [
    "measures['fluo']/np.nanmax(measures['fluo'])"
   ]
  },
  {
   "cell_type": "code",
   "execution_count": 56,
   "metadata": {},
   "outputs": [],
   "source": [
    "mean_ = {}\n",
    "for measure in list(keys):\n",
    "    mean_[measure]=who_measurements_df[measure].mean()"
   ]
  },
  {
   "cell_type": "code",
   "execution_count": 57,
   "metadata": {},
   "outputs": [
    {
     "data": {
      "text/plain": [
       "{'vcl': 241.57418681291824,\n",
       " 'vsl': 105.33824239520345,\n",
       " 'vap_mean': 160.42520793821103,\n",
       " 'alh_mean': 1.7804763198051317,\n",
       " 'lin': 0.3389332211672765,\n",
       " 'wob': 0.5139470905684427,\n",
       " 'str': 0.4763396547890985,\n",
       " 'bcf_mean': 16.70364829016109,\n",
       " 'mad': 1.7205172152249582,\n",
       " 'fluo': 69.0724281807142}"
      ]
     },
     "execution_count": 57,
     "metadata": {},
     "output_type": "execute_result"
    }
   ],
   "source": [
    "mean_"
   ]
  },
  {
   "cell_type": "code",
   "execution_count": null,
   "metadata": {},
   "outputs": [],
   "source": []
  }
 ],
 "metadata": {
  "kernelspec": {
   "display_name": "Python 3",
   "language": "python",
   "name": "python3"
  },
  "language_info": {
   "codemirror_mode": {
    "name": "ipython",
    "version": 3
   },
   "file_extension": ".py",
   "mimetype": "text/x-python",
   "name": "python",
   "nbconvert_exporter": "python",
   "pygments_lexer": "ipython3",
   "version": "3.8.3"
  }
 },
 "nbformat": 4,
 "nbformat_minor": 4
}
